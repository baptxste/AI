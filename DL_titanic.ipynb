{
 "cells": [
  {
   "cell_type": "code",
   "execution_count": null,
   "metadata": {},
   "outputs": [],
   "source": [
    "import numpy as np\n",
    "from tqdm import tqdm\n",
    "from sklearn.metrics import accuracy_score\n",
    "from matplotlib import pyplot as plt\n",
    "import csv\n",
    "\n",
    "#path_train\n",
    "#path_test "
   ]
  },
  {
   "cell_type": "code",
   "execution_count": null,
   "metadata": {},
   "outputs": [],
   "source": [
    "def use_data_train(path):\n",
    "\n",
    "    fichier = open(path)\n",
    "    L= []\n",
    "    Y=[]\n",
    "    T=[]\n",
    "    for line in fichier :\n",
    "        L.append(line.split(\";\"))\n",
    "    L.pop(0)\n",
    "    for i in range(len(L)):\n",
    "        X=[]\n",
    "        Y.append(int(L[i][1]))\n",
    "        X.append(int(L[i][2])/3)\n",
    "        if L[i][3] == 'male':\n",
    "            X.append(1)\n",
    "        else :\n",
    "            X.append(-1)\n",
    "        if L[i][4]=='':\n",
    "            X.append(0)\n",
    "        else: X.append(float(L[i][4])/100)\n",
    "        X.append(int(L[i][5]))\n",
    "        X.append(int(L[i][6]))\n",
    "        X.append(float((L[i][7]))/264)\n",
    "        T.append(X)\n",
    "\n",
    "    return np.array(T).T,np.array(Y).T"
   ]
  },
  {
   "cell_type": "code",
   "execution_count": null,
   "metadata": {},
   "outputs": [],
   "source": [
    "def use_data_test(path):\n",
    "\n",
    "    fichier = open(path)\n",
    "    L= []\n",
    "    T=[]\n",
    "    for line in fichier :\n",
    "        L.append(line.split(\";\"))\n",
    "    L.pop(0)\n",
    "    for i in range(len(L)):\n",
    "        X=[]\n",
    "        X.append(int(L[i][1])/3)\n",
    "        if L[i][2] == 'male':\n",
    "            X.append(1)\n",
    "        else :\n",
    "            X.append(-1)\n",
    "        if L[i][3]=='':\n",
    "            X.append(0)\n",
    "        else: X.append(float(L[i][3])/100)\n",
    "        X.append(int(L[i][4]))\n",
    "        X.append(int(L[i][5]))\n",
    "        X.append(float((L[i][6]))/264)\n",
    "        T.append(X)\n",
    "\n",
    "    return np.array(T).T"
   ]
  },
  {
   "cell_type": "code",
   "execution_count": null,
   "metadata": {},
   "outputs": [],
   "source": [
    "def initialisation(dim):\n",
    "    param = {}\n",
    "    C = len(dim)\n",
    "\n",
    "    for c in range(1, C):\n",
    "        param['W' + str(c)] = np.random.randn(dim[c], dim[c - 1])\n",
    "        param['b' + str(c)] = np.random.randn(dim[c], 1)\n",
    "    return param\n",
    "\n",
    "\n"
   ]
  },
  {
   "cell_type": "code",
   "execution_count": null,
   "metadata": {},
   "outputs": [],
   "source": [
    "def update(param,grad, learning_rate):\n",
    "    C = len(param)//2\n",
    "    for c in range(1,C+1):\n",
    "        param['W'+str(c)] =  param['W'+str(c)] - learning_rate*grad['dW'+str(c)]\n",
    "        param['b'+str(c)] =  param['b'+str(c)] - learning_rate*grad['db'+str(c)]\n",
    "    return param\n"
   ]
  },
  {
   "cell_type": "code",
   "execution_count": null,
   "metadata": {},
   "outputs": [],
   "source": [
    "\n",
    "def predict(X, param):\n",
    "    act = forward_prop(X, param)\n",
    "    C = len(param) // 2\n",
    "    Af = act['A' + str(C)]\n",
    "    return Af >= 0.5\n",
    "\n"
   ]
  },
  {
   "cell_type": "code",
   "execution_count": null,
   "metadata": {},
   "outputs": [],
   "source": [
    "\n",
    "def log_loss(A, y):\n",
    "    esp = 1e-15\n",
    "    return (1 / len(y)) * np.sum(-y * np.log(A+esp) - (1 - y) * np.log(1 - A+esp))\n",
    "\n"
   ]
  },
  {
   "cell_type": "code",
   "execution_count": null,
   "metadata": {},
   "outputs": [],
   "source": [
    "\n",
    "def forward_prop(X, param):\n",
    "    act = {'A0': X}\n",
    "    C = len(param) // 2\n",
    "    for c in range(1, C + 1):\n",
    "        z = param['W' + str(c)].dot(act['A' + str(c - 1)]) + param['b' + str(c)]\n",
    "        act['A' + str(c)] = 1 / (1 + np.exp(-z))\n",
    "    return act\n",
    "\n"
   ]
  },
  {
   "cell_type": "code",
   "execution_count": null,
   "metadata": {},
   "outputs": [],
   "source": [
    "\n",
    "def back_prop(y, param, act):\n",
    "    m = y.shape[0]\n",
    "    C = len(param) // 2\n",
    "\n",
    "    dZ = act['A' + str(C)] - y\n",
    "    grad = {}\n",
    "    for c in reversed(range(1, C + 1)):\n",
    "        grad['dW' + str(c)] = (1 / m) * np.dot(dZ, act['A' + str(c - 1)].T)\n",
    "        grad['db' + str(c)] = (1 / m) * np.sum(dZ, axis=1, keepdims=True)\n",
    "        if c > 1:\n",
    "            dZ = np.dot(param['W' + str(c)].T, dZ) * act['A' + str(c - 1)] * (1 - act['A' + str(c - 1)])\n",
    "    return grad"
   ]
  },
  {
   "cell_type": "code",
   "execution_count": null,
   "metadata": {},
   "outputs": [],
   "source": [
    "def neural_network(X, y, hid_layers, learning_rate=0.01, n_iter=10000):\n",
    "    dim = list(hid_layers)\n",
    "    dim.insert(0, X.shape[0])\n",
    "    dim.append(1)\n",
    "    param = initialisation(dim)\n",
    "    train_loss = []\n",
    "    train_acc = []\n",
    "    for i in tqdm(range(n_iter)):\n",
    "        act = forward_prop(X, param)\n",
    "        grad = back_prop(y, param, act)\n",
    "        param = update(param, grad, learning_rate)\n",
    "\n",
    "        if i % 10 == 0:\n",
    "            C = len(param) // 2\n",
    "            train_loss.append(log_loss(y, act['A' + str(C)]))\n",
    "            y_pred = predict(X, param)\n",
    "            current_acc = accuracy_score(y.flatten(), y_pred.flatten())\n",
    "            train_acc.append(current_acc)\n",
    "\n",
    "    fig,ax = plt.subplots(nrows=1, ncols=2, figsize=(18,4))\n",
    "    ax[0].plot(train_loss, label='train loss')\n",
    "    ax[0].legend()\n",
    "    ax[1].plot(train_acc, label ='train acc')\n",
    "    ax[1].legend()\n",
    "    #visualisation(X,y,param, ax)\n",
    "    plt.show()\n",
    "\n",
    "    return param"
   ]
  },
  {
   "cell_type": "code",
   "execution_count": null,
   "metadata": {},
   "outputs": [],
   "source": [
    "X,Y = use_data_train(path_train)\n",
    "# print(X.shape)\n",
    "# print(Y.shape)\n",
    "param = neural_network(X,Y,(6,6,6))\n",
    "\n",
    "x= use_data_test(path_test)\n",
    "\n",
    "A = predict(x, param)\n",
    "\n",
    "def fich(liste) :\n",
    "    with open ('result.csv','w') as f :\n",
    "        write = csv.writer(f, delimiter = ',')\n",
    "        write.writerow(['PassengerId', 'Survived' ])\n",
    "        for i  in range(len(liste)) :\n",
    "            if liste[i] == False :\n",
    "                write.writerow([892 + i, 0])\n",
    "            else :\n",
    "                write.writerow([892 + i, 1])\n",
    "\n",
    "fich(A[0])"
   ]
  }
 ],
 "metadata": {
  "language_info": {
   "name": "python"
  },
  "orig_nbformat": 4
 },
 "nbformat": 4,
 "nbformat_minor": 2
}
